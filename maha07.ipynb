{
 "cells": [
  {
   "cell_type": "code",
   "execution_count": 1,
   "id": "8ded39b6-1208-4382-9616-35e45bfa554e",
   "metadata": {},
   "outputs": [
    {
     "name": "stdout",
     "output_type": "stream",
     "text": [
      "['maha', 'aarthi']\n"
     ]
    }
   ],
   "source": [
    "def remove_duplicates(list):\n",
    "    result=[]\n",
    "    for i in list:\n",
    "        if i not in result:\n",
    "            result.append(i)\n",
    "    return result\n",
    "my_list=[\"maha\",\"aarthi\",\"maha\"]\n",
    "print(remove_duplicates(my_list))"
   ]
  },
  {
   "cell_type": "code",
   "execution_count": null,
   "id": "fcb40b45-b0f6-4c45-956c-19a080bbd332",
   "metadata": {},
   "outputs": [],
   "source": []
  }
 ],
 "metadata": {
  "kernelspec": {
   "display_name": "Python 3 (ipykernel)",
   "language": "python",
   "name": "python3"
  },
  "language_info": {
   "codemirror_mode": {
    "name": "ipython",
    "version": 3
   },
   "file_extension": ".py",
   "mimetype": "text/x-python",
   "name": "python",
   "nbconvert_exporter": "python",
   "pygments_lexer": "ipython3",
   "version": "3.9.19"
  }
 },
 "nbformat": 4,
 "nbformat_minor": 5
}
