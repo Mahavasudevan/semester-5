{
 "cells": [
  {
   "cell_type": "markdown",
   "id": "39feb9a2-519b-4d48-a2d4-dc7de5bd6c51",
   "metadata": {},
   "source": [
    "# VARIABLES AND DATA TYPES"
   ]
  },
  {
   "cell_type": "code",
   "execution_count": null,
   "id": "2463f39d-c208-44b1-9e55-69d6902a92d2",
   "metadata": {},
   "outputs": [],
   "source": [
    "RULES TO CREATE A VARIABLE.\n",
    "1. Variable is case sensitive.\n",
    "2.Alphanumeric allowed, Numericalpha not allowed.\n",
    "3.Special characters are not allowed.Except '_'\n",
    "4.Space not allowed"
   ]
  },
  {
   "cell_type": "code",
   "execution_count": 9,
   "id": "fd0aac14-b31a-49d1-a26f-86bc0566e44f",
   "metadata": {},
   "outputs": [],
   "source": [
    "Name='Aarthi'"
   ]
  },
  {
   "cell_type": "code",
   "execution_count": 10,
   "id": "2bbb054c-71c4-4978-aade-233a9f1c1ce9",
   "metadata": {},
   "outputs": [
    {
     "data": {
      "text/plain": [
       "'Aarthi'"
      ]
     },
     "execution_count": 10,
     "metadata": {},
     "output_type": "execute_result"
    }
   ],
   "source": [
    "Name"
   ]
  },
  {
   "cell_type": "code",
   "execution_count": 13,
   "id": "4e3d78df-536b-4b2c-9d10-4603e9ddb09b",
   "metadata": {},
   "outputs": [],
   "source": [
    "student1='pen2'+'pencil1'"
   ]
  },
  {
   "cell_type": "code",
   "execution_count": 14,
   "id": "e37bca92-eb90-4df3-aa47-6c8167089af8",
   "metadata": {},
   "outputs": [
    {
     "data": {
      "text/plain": [
       "'pen2pencil1'"
      ]
     },
     "execution_count": 14,
     "metadata": {},
     "output_type": "execute_result"
    }
   ],
   "source": [
    "student1"
   ]
  },
  {
   "cell_type": "code",
   "execution_count": 15,
   "id": "222cfb74-e5bc-44ef-bb0f-bb847fff30fe",
   "metadata": {},
   "outputs": [],
   "source": [
    "1student='2pen'"
   ]
  },
  {
   "cell_type": "code",
   "execution_count": 17,
   "id": "cecc3421-e06e-4856-8007-8da35afac758",
   "metadata": {},
   "outputs": [
    {
     "ename": "SyntaxError",
     "evalue": "invalid syntax (919909948.py, line 1)",
     "output_type": "error",
     "traceback": [
      "\u001b[1;36m  Cell \u001b[1;32mIn[17], line 1\u001b[1;36m\u001b[0m\n\u001b[1;33m    1student\u001b[0m\n\u001b[1;37m     ^\u001b[0m\n\u001b[1;31mSyntaxError\u001b[0m\u001b[1;31m:\u001b[0m invalid syntax\n"
     ]
    }
   ],
   "source": [
    "1student"
   ]
  },
  {
   "cell_type": "code",
   "execution_count": 18,
   "id": "847de65f-5d8a-43f9-93a9-d1b4ade38041",
   "metadata": {},
   "outputs": [],
   "source": [
    "Markekprize='twelve'"
   ]
  },
  {
   "cell_type": "code",
   "execution_count": 19,
   "id": "0c35dd4f-e113-4051-a201-36dbd350627a",
   "metadata": {},
   "outputs": [
    {
     "ename": "NameError",
     "evalue": "name 'Marketprize' is not defined",
     "output_type": "error",
     "traceback": [
      "\u001b[1;31m---------------------------------------------------------------------------\u001b[0m",
      "\u001b[1;31mNameError\u001b[0m                                 Traceback (most recent call last)",
      "Cell \u001b[1;32mIn[19], line 1\u001b[0m\n\u001b[1;32m----> 1\u001b[0m \u001b[43mMarketprize\u001b[49m\n",
      "\u001b[1;31mNameError\u001b[0m: name 'Marketprize' is not defined"
     ]
    }
   ],
   "source": [
    "Marketprize"
   ]
  },
  {
   "cell_type": "code",
   "execution_count": 20,
   "id": "f7fb7c9b-10f9-422a-8e54-0bd542b515b7",
   "metadata": {},
   "outputs": [],
   "source": [
    "Market_prize=\"Twelve\""
   ]
  },
  {
   "cell_type": "code",
   "execution_count": 21,
   "id": "15495402-c1c3-4127-856d-0d050e1883d0",
   "metadata": {},
   "outputs": [
    {
     "data": {
      "text/plain": [
       "'Twelve'"
      ]
     },
     "execution_count": 21,
     "metadata": {},
     "output_type": "execute_result"
    }
   ],
   "source": [
    "Market_prize"
   ]
  },
  {
   "cell_type": "markdown",
   "id": "76dee2a0-f504-475a-ba90-2c57c199ff9b",
   "metadata": {},
   "source": [
    "# TYPES OF DATA"
   ]
  },
  {
   "cell_type": "code",
   "execution_count": null,
   "id": "d58a7424-1031-425b-ba76-e30da8e32383",
   "metadata": {},
   "outputs": [],
   "source": [
    "numeric - Integer ,Float, Complex\n",
    "String - String\n",
    "sequence - List, Tuple, Range,Array.\n",
    "Mapping - Dictionary\n",
    "Set - Set, Frozen set\n",
    "Boolean - bool\n",
    "Binary - Byte Array, Memory view"
   ]
  },
  {
   "cell_type": "code",
   "execution_count": 28,
   "id": "6515d2d6-e811-4db8-bddb-1620fd0f3206",
   "metadata": {},
   "outputs": [],
   "source": [
    "a=20"
   ]
  },
  {
   "cell_type": "code",
   "execution_count": 23,
   "id": "0e9d4582-1f09-463f-989a-28b97630e7ac",
   "metadata": {},
   "outputs": [
    {
     "data": {
      "text/plain": [
       "int"
      ]
     },
     "execution_count": 23,
     "metadata": {},
     "output_type": "execute_result"
    }
   ],
   "source": [
    "type(a)"
   ]
  },
  {
   "cell_type": "code",
   "execution_count": 34,
   "id": "e4016bfb-9f0f-470c-99e5-8443a281bd03",
   "metadata": {},
   "outputs": [],
   "source": [
    "b=30.5"
   ]
  },
  {
   "cell_type": "code",
   "execution_count": 25,
   "id": "89938afc-2790-4ea5-a555-230192c6965b",
   "metadata": {},
   "outputs": [
    {
     "data": {
      "text/plain": [
       "float"
      ]
     },
     "execution_count": 25,
     "metadata": {},
     "output_type": "execute_result"
    }
   ],
   "source": [
    "type(b)"
   ]
  },
  {
   "cell_type": "code",
   "execution_count": 30,
   "id": "248a3ccc-d85c-4c13-97c5-4f10081d5180",
   "metadata": {},
   "outputs": [],
   "source": [
    "c=20+30j"
   ]
  },
  {
   "cell_type": "code",
   "execution_count": 27,
   "id": "96eacc97-47d5-4819-a3ed-07bdd900f40d",
   "metadata": {},
   "outputs": [
    {
     "data": {
      "text/plain": [
       "complex"
      ]
     },
     "execution_count": 27,
     "metadata": {},
     "output_type": "execute_result"
    }
   ],
   "source": [
    "type(c)"
   ]
  },
  {
   "cell_type": "code",
   "execution_count": 33,
   "id": "9e6c350b-d2d7-4ff5-9903-317691d9fd36",
   "metadata": {},
   "outputs": [],
   "source": [
    "d='Aarthii'"
   ]
  },
  {
   "cell_type": "code",
   "execution_count": 32,
   "id": "8f5aa80b-c151-46b5-86a2-c412a4f69fe9",
   "metadata": {},
   "outputs": [
    {
     "data": {
      "text/plain": [
       "str"
      ]
     },
     "execution_count": 32,
     "metadata": {},
     "output_type": "execute_result"
    }
   ],
   "source": [
    "type(name)"
   ]
  },
  {
   "cell_type": "code",
   "execution_count": 35,
   "id": "28a3595b-b168-4bc1-ae9f-a62adc639320",
   "metadata": {},
   "outputs": [],
   "source": [
    "a=20\n",
    "b=30.5\n",
    "c=20+30j\n",
    "d='Aarthii'\n"
   ]
  },
  {
   "cell_type": "code",
   "execution_count": 36,
   "id": "578e2cab-0c88-4fd2-9d88-79be32c8f463",
   "metadata": {},
   "outputs": [
    {
     "name": "stdout",
     "output_type": "stream",
     "text": [
      "<class 'int'>\n",
      "<class 'float'>\n",
      "<class 'complex'>\n",
      "<class 'str'>\n"
     ]
    }
   ],
   "source": [
    "print (type(a))\n",
    "print (type(b))\n",
    "print (type(c))\n",
    "print (type(d))"
   ]
  },
  {
   "cell_type": "code",
   "execution_count": 38,
   "id": "f239aa3e-ad58-4e4d-932a-08397b5ab427",
   "metadata": {},
   "outputs": [],
   "source": [
    "Class= 'a'"
   ]
  },
  {
   "cell_type": "code",
   "execution_count": 40,
   "id": "b02095b5-2950-41ef-afd7-d63adbc6d309",
   "metadata": {},
   "outputs": [
    {
     "name": "stdout",
     "output_type": "stream",
     "text": [
      "a\n"
     ]
    }
   ],
   "source": [
    "print(Class)"
   ]
  },
  {
   "cell_type": "code",
   "execution_count": 41,
   "id": "7b0f3d8c-3dcd-4927-ae3a-2fae20384a32",
   "metadata": {},
   "outputs": [
    {
     "data": {
      "text/plain": [
       "str"
      ]
     },
     "execution_count": 41,
     "metadata": {},
     "output_type": "execute_result"
    }
   ],
   "source": [
    "type(Class)"
   ]
  },
  {
   "cell_type": "code",
   "execution_count": 43,
   "id": "98f627a2-5d75-451d-9c6f-c8ffff7c75eb",
   "metadata": {},
   "outputs": [],
   "source": [
    "Class=\"student has 'two' pens\""
   ]
  },
  {
   "cell_type": "code",
   "execution_count": 44,
   "id": "5866dbfc-9d00-471a-9056-6bee9d37f2f9",
   "metadata": {},
   "outputs": [
    {
     "name": "stdout",
     "output_type": "stream",
     "text": [
      "student has 'two' pens\n"
     ]
    }
   ],
   "source": [
    "print(Class)"
   ]
  },
  {
   "cell_type": "code",
   "execution_count": 45,
   "id": "a62e6044-82bb-4945-aefd-d81dffba2d4e",
   "metadata": {},
   "outputs": [
    {
     "data": {
      "text/plain": [
       "str"
      ]
     },
     "execution_count": 45,
     "metadata": {},
     "output_type": "execute_result"
    }
   ],
   "source": [
    "type(Class)"
   ]
  },
  {
   "cell_type": "markdown",
   "id": "4a7cf8d3-e262-4b3d-a3b2-a1568bd03847",
   "metadata": {},
   "source": [
    "# LIST\n",
    "#### 1.List supports Multiple data type.\n",
    "#### 2.List is Mutable\n",
    "#### 3.List supports Repeatability"
   ]
  },
  {
   "cell_type": "code",
   "execution_count": 47,
   "id": "37f8fd3c-1604-4ac1-9b6c-d9820832426f",
   "metadata": {},
   "outputs": [],
   "source": [
    "L1=[20,30.5,20+30j,\"PYTHON\",'ROBOTICS']"
   ]
  },
  {
   "cell_type": "code",
   "execution_count": 48,
   "id": "1d28e118-f175-4df5-b38c-bc1838e63dad",
   "metadata": {},
   "outputs": [
    {
     "name": "stdout",
     "output_type": "stream",
     "text": [
      "[20, 30.5, (20+30j), 'PYTHON', 'ROBOTICS']\n"
     ]
    }
   ],
   "source": [
    "print(L1)"
   ]
  },
  {
   "cell_type": "code",
   "execution_count": 49,
   "id": "42b8e3c4-6d57-4a79-a42c-9851492dadb1",
   "metadata": {},
   "outputs": [
    {
     "data": {
      "text/plain": [
       "list"
      ]
     },
     "execution_count": 49,
     "metadata": {},
     "output_type": "execute_result"
    }
   ],
   "source": [
    "type(L1)"
   ]
  },
  {
   "cell_type": "code",
   "execution_count": 1,
   "id": "56ac4a2d-62b6-4743-8f1d-3a549439459b",
   "metadata": {},
   "outputs": [],
   "source": [
    "my_list=[20,30.5,20+30j,'PYTHON','ROBOTICS']"
   ]
  },
  {
   "cell_type": "code",
   "execution_count": 3,
   "id": "646b0ebb-9099-407c-a956-0550d4061389",
   "metadata": {},
   "outputs": [],
   "source": [
    "my_list[4]='JAVA'"
   ]
  },
  {
   "cell_type": "code",
   "execution_count": 4,
   "id": "6081a0e8-4f52-4e10-8cf9-8b53a340a3a0",
   "metadata": {},
   "outputs": [
    {
     "name": "stdout",
     "output_type": "stream",
     "text": [
      "[20, 30.5, (20+30j), 'PYTHON', 'JAVA']\n"
     ]
    }
   ],
   "source": [
    "print(my_list)"
   ]
  },
  {
   "cell_type": "code",
   "execution_count": 7,
   "id": "d31137bf-3bad-4621-b1a1-aa2febca4770",
   "metadata": {},
   "outputs": [],
   "source": [
    "my_list=[20,30.5,20+30j,'PYTHON','ROBOTICS',[1,2,3,4,5]]"
   ]
  },
  {
   "cell_type": "code",
   "execution_count": 10,
   "id": "6b876585-24fe-4781-936d-2208245dd773",
   "metadata": {},
   "outputs": [
    {
     "data": {
      "text/plain": [
       "['PYTHON', 'ROBOTICS']"
      ]
     },
     "execution_count": 10,
     "metadata": {},
     "output_type": "execute_result"
    }
   ],
   "source": [
    "my_list[-3:-1]"
   ]
  },
  {
   "cell_type": "code",
   "execution_count": 11,
   "id": "e9848dcd-c395-471f-8902-670f8f134d33",
   "metadata": {},
   "outputs": [],
   "source": [
    "my_list=[20,30.5,20+30j,'PYTHON','ROBOTICS',[1,2,3,4,5]]"
   ]
  },
  {
   "cell_type": "code",
   "execution_count": 13,
   "id": "5d0f53f4-e107-45a1-b533-bbd3d54dad46",
   "metadata": {},
   "outputs": [
    {
     "data": {
      "text/plain": [
       "4"
      ]
     },
     "execution_count": 13,
     "metadata": {},
     "output_type": "execute_result"
    }
   ],
   "source": [
    "my_list[5][3]"
   ]
  },
  {
   "cell_type": "code",
   "execution_count": 14,
   "id": "95249503-74c9-42c5-8971-dcfb53d21f31",
   "metadata": {},
   "outputs": [],
   "source": [
    "my_list=[20,30.5,20+30j,'python','robotics',[1,2,3,4,5]]"
   ]
  },
  {
   "cell_type": "code",
   "execution_count": 15,
   "id": "5754181d-d27e-46cf-ae1d-3619cedd8342",
   "metadata": {},
   "outputs": [
    {
     "data": {
      "text/plain": [
       "['python', 'robotics', [1, 2, 3, 4, 5]]"
      ]
     },
     "execution_count": 15,
     "metadata": {},
     "output_type": "execute_result"
    }
   ],
   "source": [
    "my_list[-3:]"
   ]
  },
  {
   "cell_type": "code",
   "execution_count": 16,
   "id": "4c861b2c-3c61-47a2-958f-e560b71cb199",
   "metadata": {},
   "outputs": [],
   "source": [
    "my_list=[20,30.5,20+30j,'python','robotics',[1,2,3,4,5]]"
   ]
  },
  {
   "cell_type": "code",
   "execution_count": 17,
   "id": "dfe68748-958c-4bc7-bb44-e8110b5b0777",
   "metadata": {},
   "outputs": [
    {
     "data": {
      "text/plain": [
       "[1, 2, 3, 4, 5]"
      ]
     },
     "execution_count": 17,
     "metadata": {},
     "output_type": "execute_result"
    }
   ],
   "source": [
    "my_list[-1]"
   ]
  },
  {
   "cell_type": "code",
   "execution_count": 18,
   "id": "cd214fa4-79a1-4b6e-9d7c-d757c1bd0be7",
   "metadata": {},
   "outputs": [],
   "source": [
    "my_list=[20,30.5,20+30j,'python','robotics',[1,2,3,4,5]]"
   ]
  },
  {
   "cell_type": "code",
   "execution_count": 20,
   "id": "5d84eb33-b628-4162-bf5b-00b20862fefd",
   "metadata": {},
   "outputs": [
    {
     "data": {
      "text/plain": [
       "[30.5, (20+30j), 'python']"
      ]
     },
     "execution_count": 20,
     "metadata": {},
     "output_type": "execute_result"
    }
   ],
   "source": [
    "my_list[-5:-2]"
   ]
  },
  {
   "cell_type": "code",
   "execution_count": 21,
   "id": "51ad88a2-bded-445c-9c62-8c29ac74acb3",
   "metadata": {},
   "outputs": [],
   "source": [
    "my_list=[20,30.5,20+30j,'python','robotics',[1,2,3,4,5]]"
   ]
  },
  {
   "cell_type": "code",
   "execution_count": 22,
   "id": "de56a120-d784-4082-b3a1-a50051265c1c",
   "metadata": {},
   "outputs": [
    {
     "data": {
      "text/plain": [
       "[20, 30.5, (20+30j), 'python', 'robotics', [1, 2, 3, 4, 5]]"
      ]
     },
     "execution_count": 22,
     "metadata": {},
     "output_type": "execute_result"
    }
   ],
   "source": [
    "my_list[-6:]"
   ]
  },
  {
   "cell_type": "code",
   "execution_count": 23,
   "id": "1a71fa3a-60b9-4d1a-b6a4-7533d20a7548",
   "metadata": {},
   "outputs": [],
   "source": [
    "my_list=[20,30.5,20+30j,'python','robotics',[1,2,3,4,5]]"
   ]
  },
  {
   "cell_type": "code",
   "execution_count": 24,
   "id": "28fe4a11-b95c-4439-a76c-ea916fc8bde7",
   "metadata": {},
   "outputs": [
    {
     "data": {
      "text/plain": [
       "[30.5]"
      ]
     },
     "execution_count": 24,
     "metadata": {},
     "output_type": "execute_result"
    }
   ],
   "source": [
    "my_list[1:2]"
   ]
  },
  {
   "cell_type": "code",
   "execution_count": 25,
   "id": "6f7fd5d4-6cbd-45a9-aafd-4967f8bef0d6",
   "metadata": {},
   "outputs": [],
   "source": [
    "my_list=[20,30.5,20+30j,'python','robotics',[1,2,3,4,5]]"
   ]
  },
  {
   "cell_type": "code",
   "execution_count": 26,
   "id": "77e94c58-7168-4cac-b3c2-ee7fbd9d4413",
   "metadata": {},
   "outputs": [
    {
     "data": {
      "text/plain": [
       "[30.5, 'robotics']"
      ]
     },
     "execution_count": 26,
     "metadata": {},
     "output_type": "execute_result"
    }
   ],
   "source": [
    "my_list[1::3]"
   ]
  },
  {
   "cell_type": "code",
   "execution_count": 27,
   "id": "0ac360ff-d71f-4dd5-bf82-33cd4624b19e",
   "metadata": {},
   "outputs": [],
   "source": [
    "my_list=[20,30.5,20+30j,'python','robotics',[1,2,3,4,5]]"
   ]
  },
  {
   "cell_type": "code",
   "execution_count": 32,
   "id": "970341b6-b02e-4458-82d4-3b245d73957c",
   "metadata": {},
   "outputs": [
    {
     "data": {
      "text/plain": [
       "[[1, 2, 3, 4, 5], 'robotics', 'python', (20+30j), 30.5, 20]"
      ]
     },
     "execution_count": 32,
     "metadata": {},
     "output_type": "execute_result"
    }
   ],
   "source": [
    "my_list[-1::-1]"
   ]
  },
  {
   "cell_type": "code",
   "execution_count": 33,
   "id": "008c5b0d-655f-4e0b-949d-11b93332e703",
   "metadata": {},
   "outputs": [],
   "source": [
    "my_list=[20,30.5,20+30j,'python','robotics',[1,2,3,4,5]]"
   ]
  },
  {
   "cell_type": "code",
   "execution_count": 34,
   "id": "a76e2729-ec9b-4c91-88f0-c931f8700988",
   "metadata": {},
   "outputs": [
    {
     "data": {
      "text/plain": [
       "[30.5, (20+30j), 'python', 'robotics', [1, 2, 3, 4, 5]]"
      ]
     },
     "execution_count": 34,
     "metadata": {},
     "output_type": "execute_result"
    }
   ],
   "source": [
    "my_list[1::1]"
   ]
  },
  {
   "cell_type": "code",
   "execution_count": 35,
   "id": "ccb08478-c4eb-41f2-9eb8-3361f4e99209",
   "metadata": {},
   "outputs": [],
   "source": [
    "my_list=[20,30.5,20+30j,'python','robotics',[1,2,3,4,5]]"
   ]
  },
  {
   "cell_type": "code",
   "execution_count": 39,
   "id": "085c94ee-f1b3-4ad5-8205-61110e1ef98c",
   "metadata": {},
   "outputs": [
    {
     "data": {
      "text/plain": [
       "['robotics', (20+30j), 20]"
      ]
     },
     "execution_count": 39,
     "metadata": {},
     "output_type": "execute_result"
    }
   ],
   "source": [
    "my_list[-2::-2]"
   ]
  },
  {
   "cell_type": "code",
   "execution_count": 40,
   "id": "8a83a66f-6ced-4172-8a68-a07f673b483a",
   "metadata": {},
   "outputs": [],
   "source": [
    "my_list=[20,30.5,20+30j,'python','robotics',[1,2,3,4,5]]"
   ]
  },
  {
   "cell_type": "code",
   "execution_count": 41,
   "id": "319bd001-5fa4-427d-a7b9-60240e950c5b",
   "metadata": {},
   "outputs": [
    {
     "data": {
      "text/plain": [
       "[20]"
      ]
     },
     "execution_count": 41,
     "metadata": {},
     "output_type": "execute_result"
    }
   ],
   "source": [
    "my_list[-6::-1]"
   ]
  },
  {
   "cell_type": "code",
   "execution_count": 43,
   "id": "edb2f766-249c-43e4-ba8b-2508931fe3d9",
   "metadata": {},
   "outputs": [
    {
     "data": {
      "text/plain": [
       "[20, 30.5, (20+30j), 'python']"
      ]
     },
     "execution_count": 43,
     "metadata": {},
     "output_type": "execute_result"
    }
   ],
   "source": [
    "my_list[-6:-2]"
   ]
  },
  {
   "cell_type": "code",
   "execution_count": 44,
   "id": "55d941f3-da2c-4496-915c-de10dc58bbab",
   "metadata": {},
   "outputs": [],
   "source": [
    "my_list=[20,30.5,20+30j,'python','robotics',[1,2,3,4,5]]"
   ]
  },
  {
   "cell_type": "code",
   "execution_count": 46,
   "id": "fda35fd1-eff9-4665-8b23-925dfe8b8d9b",
   "metadata": {},
   "outputs": [],
   "source": [
    "my_list.append([10,20,30])"
   ]
  },
  {
   "cell_type": "code",
   "execution_count": 47,
   "id": "118b468d-43e5-41db-a048-719f004c6bcd",
   "metadata": {},
   "outputs": [
    {
     "name": "stdout",
     "output_type": "stream",
     "text": [
      "[20, 30.5, (20+30j), 'python', 'robotics', [1, 2, 3, 4, 5], [10, 20, 30]]\n"
     ]
    }
   ],
   "source": [
    "print(my_list)"
   ]
  },
  {
   "cell_type": "code",
   "execution_count": 48,
   "id": "5c0f127f-7773-479d-8ab4-b06d5edb1911",
   "metadata": {},
   "outputs": [],
   "source": [
    "my_list.remove([10,20,30])"
   ]
  },
  {
   "cell_type": "code",
   "execution_count": 49,
   "id": "b2264aca-84f5-4c6e-a08d-c0593361212f",
   "metadata": {},
   "outputs": [
    {
     "data": {
      "text/plain": [
       "[20, 30.5, (20+30j), 'python', 'robotics', [1, 2, 3, 4, 5]]"
      ]
     },
     "execution_count": 49,
     "metadata": {},
     "output_type": "execute_result"
    }
   ],
   "source": [
    "my_list"
   ]
  },
  {
   "cell_type": "code",
   "execution_count": 50,
   "id": "47f97e98-c713-4cec-8ca6-554fb21ab57b",
   "metadata": {},
   "outputs": [],
   "source": [
    "my_list=[20,30.5,20+30j,'python','robotics',[1,2,3,4,5]]"
   ]
  },
  {
   "cell_type": "code",
   "execution_count": 51,
   "id": "74be148f-3c88-4bab-8789-d70bb4794f06",
   "metadata": {},
   "outputs": [
    {
     "data": {
      "text/plain": [
       "3"
      ]
     },
     "execution_count": 51,
     "metadata": {},
     "output_type": "execute_result"
    }
   ],
   "source": [
    "my_list.index('python')"
   ]
  },
  {
   "cell_type": "code",
   "execution_count": 52,
   "id": "c6c1a768-dfc3-4f6f-8e11-5d2234001ca5",
   "metadata": {},
   "outputs": [
    {
     "data": {
      "text/plain": [
       "1"
      ]
     },
     "execution_count": 52,
     "metadata": {},
     "output_type": "execute_result"
    }
   ],
   "source": [
    "my_list.index(30.5)"
   ]
  },
  {
   "cell_type": "code",
   "execution_count": 53,
   "id": "86a2e547-7648-4506-96aa-d73643df0c23",
   "metadata": {},
   "outputs": [],
   "source": [
    "my_list.insert(3,'AI')"
   ]
  },
  {
   "cell_type": "code",
   "execution_count": 54,
   "id": "fdc19be3-ad0f-4bc0-8dd2-26a6d2e49642",
   "metadata": {},
   "outputs": [
    {
     "data": {
      "text/plain": [
       "[20, 30.5, (20+30j), 'AI', 'python', 'robotics', [1, 2, 3, 4, 5]]"
      ]
     },
     "execution_count": 54,
     "metadata": {},
     "output_type": "execute_result"
    }
   ],
   "source": [
    "my_list"
   ]
  },
  {
   "cell_type": "code",
   "execution_count": 55,
   "id": "2d885809-81fa-4629-a5b5-9ac6fa0a36b6",
   "metadata": {},
   "outputs": [],
   "source": [
    "my_list=[20,30.5,20+30j,'python','robotics',[1,2,3,4,5]]"
   ]
  },
  {
   "cell_type": "code",
   "execution_count": 56,
   "id": "0450aa91-8e38-4cb0-b3c7-5a4176689a29",
   "metadata": {},
   "outputs": [
    {
     "data": {
      "text/plain": [
       "[1, 2, 3, 4, 5]"
      ]
     },
     "execution_count": 56,
     "metadata": {},
     "output_type": "execute_result"
    }
   ],
   "source": [
    "my_list.pop()"
   ]
  },
  {
   "cell_type": "code",
   "execution_count": 57,
   "id": "492e6b49-678f-430d-8198-a391b0c5c17c",
   "metadata": {},
   "outputs": [
    {
     "data": {
      "text/plain": [
       "'robotics'"
      ]
     },
     "execution_count": 57,
     "metadata": {},
     "output_type": "execute_result"
    }
   ],
   "source": [
    "my_list.pop()"
   ]
  },
  {
   "cell_type": "code",
   "execution_count": 58,
   "id": "186995cc-9bff-42bb-8ec9-289b07d504df",
   "metadata": {},
   "outputs": [
    {
     "data": {
      "text/plain": [
       "'python'"
      ]
     },
     "execution_count": 58,
     "metadata": {},
     "output_type": "execute_result"
    }
   ],
   "source": [
    "my_list.pop()"
   ]
  },
  {
   "cell_type": "markdown",
   "id": "26559184",
   "metadata": {},
   "source": [
    "# sets"
   ]
  },
  {
   "cell_type": "code",
   "execution_count": null,
   "id": "bb20e612",
   "metadata": {},
   "outputs": [],
   "source": [
    "1.set is unorder and unindex\n",
    "2.set is mutable\n",
    "3.set do not allow duplicate values"
   ]
  },
  {
   "cell_type": "code",
   "execution_count": 2,
   "id": "5c3eaaa9",
   "metadata": {},
   "outputs": [],
   "source": [
    "name={1,2,3,\"aarthi\",7j}"
   ]
  },
  {
   "cell_type": "code",
   "execution_count": 3,
   "id": "8a23b635",
   "metadata": {},
   "outputs": [
    {
     "data": {
      "text/plain": [
       "set"
      ]
     },
     "execution_count": 3,
     "metadata": {},
     "output_type": "execute_result"
    }
   ],
   "source": [
    "type(name)"
   ]
  },
  {
   "cell_type": "code",
   "execution_count": 4,
   "id": "1085c1df",
   "metadata": {},
   "outputs": [
    {
     "data": {
      "text/plain": [
       "5"
      ]
     },
     "execution_count": 4,
     "metadata": {},
     "output_type": "execute_result"
    }
   ],
   "source": [
    "len(name)"
   ]
  },
  {
   "cell_type": "code",
   "execution_count": 5,
   "id": "0caba19e",
   "metadata": {},
   "outputs": [],
   "source": [
    "name.add(\"maha\")"
   ]
  },
  {
   "cell_type": "code",
   "execution_count": 6,
   "id": "3e5880ed",
   "metadata": {},
   "outputs": [],
   "source": [
    "name.add(4)"
   ]
  },
  {
   "cell_type": "code",
   "execution_count": 7,
   "id": "4f872f5f",
   "metadata": {},
   "outputs": [
    {
     "data": {
      "text/plain": [
       "{1, 2, 3, 4, 7j, 'aarthi', 'maha'}"
      ]
     },
     "execution_count": 7,
     "metadata": {},
     "output_type": "execute_result"
    }
   ],
   "source": [
    "name"
   ]
  },
  {
   "cell_type": "code",
   "execution_count": 8,
   "id": "5afdc5bb",
   "metadata": {},
   "outputs": [],
   "source": [
    "name.update({\"preethi\"})"
   ]
  },
  {
   "cell_type": "code",
   "execution_count": 9,
   "id": "9bee9f94",
   "metadata": {},
   "outputs": [
    {
     "data": {
      "text/plain": [
       "{1, 2, 3, 4, 7j, 'aarthi', 'maha', 'preethi'}"
      ]
     },
     "execution_count": 9,
     "metadata": {},
     "output_type": "execute_result"
    }
   ],
   "source": [
    "name"
   ]
  },
  {
   "cell_type": "code",
   "execution_count": 10,
   "id": "8c237be9",
   "metadata": {},
   "outputs": [],
   "source": [
    "name.remove(\"maha\")"
   ]
  },
  {
   "cell_type": "code",
   "execution_count": 11,
   "id": "bfc641a8",
   "metadata": {},
   "outputs": [
    {
     "data": {
      "text/plain": [
       "{1, 2, 3, 4, 7j, 'aarthi', 'preethi'}"
      ]
     },
     "execution_count": 11,
     "metadata": {},
     "output_type": "execute_result"
    }
   ],
   "source": [
    "name"
   ]
  },
  {
   "cell_type": "code",
   "execution_count": 12,
   "id": "7550a72e",
   "metadata": {},
   "outputs": [
    {
     "ename": "KeyError",
     "evalue": "'maha'",
     "output_type": "error",
     "traceback": [
      "\u001b[1;31m---------------------------------------------------------------------------\u001b[0m",
      "\u001b[1;31mKeyError\u001b[0m                                  Traceback (most recent call last)",
      "\u001b[1;32m~\\AppData\\Local\\Temp\\ipykernel_6392\\2698852209.py\u001b[0m in \u001b[0;36m<module>\u001b[1;34m\u001b[0m\n\u001b[1;32m----> 1\u001b[1;33m \u001b[0mname\u001b[0m\u001b[1;33m.\u001b[0m\u001b[0mremove\u001b[0m\u001b[1;33m(\u001b[0m\u001b[1;34m\"maha\"\u001b[0m\u001b[1;33m)\u001b[0m\u001b[1;33m\u001b[0m\u001b[1;33m\u001b[0m\u001b[0m\n\u001b[0m",
      "\u001b[1;31mKeyError\u001b[0m: 'maha'"
     ]
    }
   ],
   "source": [
    "name.remove(\"maha\")"
   ]
  },
  {
   "cell_type": "code",
   "execution_count": 13,
   "id": "71304e34",
   "metadata": {},
   "outputs": [],
   "source": [
    "name.discard(\"aarthi\")"
   ]
  },
  {
   "cell_type": "code",
   "execution_count": 15,
   "id": "1b0823e8",
   "metadata": {},
   "outputs": [
    {
     "data": {
      "text/plain": [
       "{1, 2, 3, 4, 7j, 'preethi'}"
      ]
     },
     "execution_count": 15,
     "metadata": {},
     "output_type": "execute_result"
    }
   ],
   "source": [
    "name"
   ]
  },
  {
   "cell_type": "code",
   "execution_count": 16,
   "id": "fa1066dc",
   "metadata": {},
   "outputs": [],
   "source": [
    "name.discard(\"aarthi\")"
   ]
  },
  {
   "cell_type": "code",
   "execution_count": 17,
   "id": "900b72c4",
   "metadata": {},
   "outputs": [
    {
     "data": {
      "text/plain": [
       "{1, 2, 3, 4, 7j, 'preethi'}"
      ]
     },
     "execution_count": 17,
     "metadata": {},
     "output_type": "execute_result"
    }
   ],
   "source": [
    "name"
   ]
  },
  {
   "cell_type": "markdown",
   "id": "b9e14cca",
   "metadata": {},
   "source": [
    "\n",
    "# DICTIONARIES"
   ]
  },
  {
   "cell_type": "code",
   "execution_count": null,
   "id": "b07354af",
   "metadata": {},
   "outputs": [],
   "source": [
    "1.keys are immutable\n",
    "2.values are mutable\n",
    "3.overall dict is a mutable structure"
   ]
  },
  {
   "cell_type": "code",
   "execution_count": 21,
   "id": "b1c92934",
   "metadata": {},
   "outputs": [],
   "source": [
    "course = {'m':\"btech\",2:\"electronics\",3:\"robotics\",4:\"artificial intelligence\"}"
   ]
  },
  {
   "cell_type": "code",
   "execution_count": 22,
   "id": "5959e94c",
   "metadata": {},
   "outputs": [
    {
     "data": {
      "text/plain": [
       "{'m': 'btech', 2: 'electronics', 3: 'robotics', 4: 'artificial intelligence'}"
      ]
     },
     "execution_count": 22,
     "metadata": {},
     "output_type": "execute_result"
    }
   ],
   "source": [
    "course"
   ]
  },
  {
   "cell_type": "code",
   "execution_count": 23,
   "id": "88127ef1",
   "metadata": {},
   "outputs": [
    {
     "data": {
      "text/plain": [
       "dict"
      ]
     },
     "execution_count": 23,
     "metadata": {},
     "output_type": "execute_result"
    }
   ],
   "source": [
    "type(course)"
   ]
  },
  {
   "cell_type": "code",
   "execution_count": 24,
   "id": "949b5c4a",
   "metadata": {},
   "outputs": [
    {
     "data": {
      "text/plain": [
       "4"
      ]
     },
     "execution_count": 24,
     "metadata": {},
     "output_type": "execute_result"
    }
   ],
   "source": [
    "len(course)"
   ]
  },
  {
   "cell_type": "code",
   "execution_count": 26,
   "id": "2000a8df",
   "metadata": {},
   "outputs": [
    {
     "data": {
      "text/plain": [
       "'btech'"
      ]
     },
     "execution_count": 26,
     "metadata": {},
     "output_type": "execute_result"
    }
   ],
   "source": [
    "course['m']"
   ]
  },
  {
   "cell_type": "raw",
   "id": "631bd3b0",
   "metadata": {},
   "source": [
    "course[2]='communcation'"
   ]
  },
  {
   "cell_type": "code",
   "execution_count": 32,
   "id": "6eef1602",
   "metadata": {
    "scrolled": true
   },
   "outputs": [
    {
     "data": {
      "text/plain": [
       "{'m': 'btech',\n",
       " 2: 'electronics',\n",
       " 3: 'robotics',\n",
       " 4: 'artificial intelligence',\n",
       " 5: 'engineering'}"
      ]
     },
     "execution_count": 32,
     "metadata": {},
     "output_type": "execute_result"
    }
   ],
   "source": [
    "course"
   ]
  },
  {
   "cell_type": "code",
   "execution_count": 31,
   "id": "05220273",
   "metadata": {},
   "outputs": [
    {
     "data": {
      "text/plain": [
       "{'m': 'btech',\n",
       " 2: 'electronics',\n",
       " 3: 'robotics',\n",
       " 4: 'artificial intelligence',\n",
       " 5: 'engineering'}"
      ]
     },
     "execution_count": 31,
     "metadata": {},
     "output_type": "execute_result"
    }
   ],
   "source": [
    "course[5]='engineering'\n",
    "course"
   ]
  },
  {
   "cell_type": "code",
   "execution_count": 37,
   "id": "44ed4519",
   "metadata": {},
   "outputs": [
    {
     "data": {
      "text/plain": [
       "dict_keys(['m', 2, 3, 4])"
      ]
     },
     "execution_count": 37,
     "metadata": {},
     "output_type": "execute_result"
    }
   ],
   "source": [
    "details={'m':\"btech\",2:\"electronics\",3:\"robotics\",4:\"artificial intelligence\"}\n",
    "\n",
    "details.keys()"
   ]
  },
  {
   "cell_type": "code",
   "execution_count": 38,
   "id": "21676687",
   "metadata": {},
   "outputs": [
    {
     "data": {
      "text/plain": [
       "dict_items([('m', 'btech'), (2, 'electronics'), (3, 'robotics'), (4, 'artificial intelligence')])"
      ]
     },
     "execution_count": 38,
     "metadata": {},
     "output_type": "execute_result"
    }
   ],
   "source": [
    "details.items()"
   ]
  },
  {
   "cell_type": "code",
   "execution_count": 39,
   "id": "52ed7e2f",
   "metadata": {},
   "outputs": [
    {
     "data": {
      "text/plain": [
       "{'m': 'btech', 2: 'electronics', 3: 'robotics', 4: 'artificial intelligence'}"
      ]
     },
     "execution_count": 39,
     "metadata": {},
     "output_type": "execute_result"
    }
   ],
   "source": [
    "d=details.copy()\n",
    "details"
   ]
  },
  {
   "cell_type": "markdown",
   "id": "4aa688ef",
   "metadata": {},
   "source": [
    "# boolean"
   ]
  },
  {
   "cell_type": "markdown",
   "id": "b94d2dd2",
   "metadata": {},
   "source": [
    ">-greater than\n",
    "<-lesser than\n",
    ">= - greater than or equal\n",
    "<= - less than or equal\n",
    "== - equal to equal\n",
    "!= - not equal"
   ]
  },
  {
   "cell_type": "code",
   "execution_count": 41,
   "id": "0d9cb62a",
   "metadata": {},
   "outputs": [
    {
     "data": {
      "text/plain": [
       "True"
      ]
     },
     "execution_count": 41,
     "metadata": {},
     "output_type": "execute_result"
    }
   ],
   "source": [
    "200>100"
   ]
  },
  {
   "cell_type": "code",
   "execution_count": 42,
   "id": "09932cab",
   "metadata": {},
   "outputs": [
    {
     "data": {
      "text/plain": [
       "True"
      ]
     },
     "execution_count": 42,
     "metadata": {},
     "output_type": "execute_result"
    }
   ],
   "source": [
    "50<51"
   ]
  },
  {
   "cell_type": "code",
   "execution_count": 43,
   "id": "e8c30a99",
   "metadata": {},
   "outputs": [
    {
     "data": {
      "text/plain": [
       "True"
      ]
     },
     "execution_count": 43,
     "metadata": {},
     "output_type": "execute_result"
    }
   ],
   "source": [
    "44>=33"
   ]
  },
  {
   "cell_type": "code",
   "execution_count": 45,
   "id": "fb4609fe",
   "metadata": {},
   "outputs": [
    {
     "data": {
      "text/plain": [
       "False"
      ]
     },
     "execution_count": 45,
     "metadata": {},
     "output_type": "execute_result"
    }
   ],
   "source": [
    "67<=30"
   ]
  },
  {
   "cell_type": "code",
   "execution_count": 46,
   "id": "87cbda17",
   "metadata": {},
   "outputs": [],
   "source": [
    "g=0\n",
    "m=10"
   ]
  },
  {
   "cell_type": "code",
   "execution_count": 47,
   "id": "692cd9c3",
   "metadata": {},
   "outputs": [
    {
     "data": {
      "text/plain": [
       "False"
      ]
     },
     "execution_count": 47,
     "metadata": {},
     "output_type": "execute_result"
    }
   ],
   "source": [
    "g==m"
   ]
  },
  {
   "cell_type": "code",
   "execution_count": 48,
   "id": "5f693d83",
   "metadata": {},
   "outputs": [
    {
     "data": {
      "text/plain": [
       "False"
      ]
     },
     "execution_count": 48,
     "metadata": {},
     "output_type": "execute_result"
    }
   ],
   "source": [
    "10!=10"
   ]
  },
  {
   "cell_type": "markdown",
   "id": "ccda47ec",
   "metadata": {},
   "source": [
    "# control flow"
   ]
  },
  {
   "cell_type": "code",
   "execution_count": null,
   "id": "a48f2c6e",
   "metadata": {},
   "outputs": [],
   "source": [
    "1.Conditional statement\n",
    "2.Loops\n",
    "3.Functions"
   ]
  },
  {
   "cell_type": "markdown",
   "id": "1da5c558",
   "metadata": {},
   "source": [
    "# conditional statement\n",
    "# if\n",
    "# elif \n",
    "# else"
   ]
  },
  {
   "cell_type": "markdown",
   "id": "58b6bb41",
   "metadata": {},
   "source": [
    "# 1.if statements"
   ]
  },
  {
   "cell_type": "code",
   "execution_count": null,
   "id": "08301ca8",
   "metadata": {},
   "outputs": [],
   "source": [
    "if <expression>:\n",
    "    <statement(s)>"
   ]
  },
  {
   "cell_type": "code",
   "execution_count": 49,
   "id": "2f3a6650",
   "metadata": {},
   "outputs": [
    {
     "name": "stdout",
     "output_type": "stream",
     "text": [
      "enter your name:aarthi\n",
      "enter your age:19\n"
     ]
    }
   ],
   "source": [
    "name=input('enter your name:')\n",
    "age=int(input('enter your age:'))"
   ]
  },
  {
   "cell_type": "code",
   "execution_count": 54,
   "id": "2ea3e74e",
   "metadata": {},
   "outputs": [
    {
     "name": "stdout",
     "output_type": "stream",
     "text": [
      "you are eligible to vote\n"
     ]
    }
   ],
   "source": [
    "if age>= 18:\n",
    "    print('you are eligible to vote')\n",
    "else:\n",
    "    print('you are not eligible to vote')"
   ]
  },
  {
   "cell_type": "code",
   "execution_count": 1,
   "id": "26be683c",
   "metadata": {},
   "outputs": [
    {
     "name": "stdout",
     "output_type": "stream",
     "text": [
      "enter the a value p:30\n",
      "enter the a value q:33\n"
     ]
    }
   ],
   "source": [
    "a=int(input('enter the a value p:'))\n",
    "b=int(input('enter the a value q:'))"
   ]
  },
  {
   "cell_type": "code",
   "execution_count": 3,
   "id": "e57cdc4f",
   "metadata": {},
   "outputs": [
    {
     "name": "stdout",
     "output_type": "stream",
     "text": [
      "enter num:30\n",
      "even\n"
     ]
    }
   ],
   "source": [
    "num=int(input('enter num:'))\n",
    "if(num%2==0):\n",
    "    print('even')\n",
    "else:\n",
    "    print('odd')"
   ]
  },
  {
   "cell_type": "code",
   "execution_count": 4,
   "id": "482a401a",
   "metadata": {},
   "outputs": [
    {
     "name": "stdout",
     "output_type": "stream",
     "text": [
      "enter l number: 10\n",
      "enter m number: 55\n",
      "enter n number: 30\n"
     ]
    }
   ],
   "source": [
    "l=input(\"enter l number: \")\n",
    "m=input(\"enter m number: \")\n",
    "n=input(\"enter n number: \")"
   ]
  },
  {
   "cell_type": "code",
   "execution_count": 9,
   "id": "73af46e8",
   "metadata": {},
   "outputs": [
    {
     "name": "stdout",
     "output_type": "stream",
     "text": [
      "the number 55 is greater than 10 & 30.\n"
     ]
    }
   ],
   "source": [
    "if int(l)>int(m)>int(n):\n",
    "    print(f\"the number {l} is greater than {m} & {n}\")\n",
    "elif int(m)>int(l) and int(m)>int(n):\n",
    "    print(f\"the number {m} is greater than {l} & {n}.\")\n",
    "else:\n",
    "    print(f\"the number {m} is greater than number {n} & {l}.\")"
   ]
  },
  {
   "cell_type": "markdown",
   "id": "96365724",
   "metadata": {},
   "source": [
    "# loops"
   ]
  },
  {
   "cell_type": "code",
   "execution_count": null,
   "id": "87afff6b",
   "metadata": {},
   "outputs": [],
   "source": [
    "1.for loop\n",
    "2.while loop"
   ]
  },
  {
   "cell_type": "markdown",
   "id": "4942077b",
   "metadata": {},
   "source": [
    "# understanding for loop syntax"
   ]
  },
  {
   "cell_type": "code",
   "execution_count": null,
   "id": "3101c25c",
   "metadata": {},
   "outputs": [],
   "source": [
    "for  <variable> in <sequence>:\n",
    "     <statement(s)>"
   ]
  },
  {
   "cell_type": "code",
   "execution_count": 24,
   "id": "2cbdccab",
   "metadata": {},
   "outputs": [
    {
     "name": "stdout",
     "output_type": "stream",
     "text": [
      "1\n",
      "2\n",
      "3\n"
     ]
    }
   ],
   "source": [
    "for i in range(1,4):\n",
    "    print(i)"
   ]
  },
  {
   "cell_type": "markdown",
   "id": "b80999cb",
   "metadata": {},
   "source": [
    "# nested for loop"
   ]
  },
  {
   "cell_type": "code",
   "execution_count": null,
   "id": "a2ab3712",
   "metadata": {},
   "outputs": [],
   "source": [
    "for <variable> in (sequence):\n",
    "    <statement(s)>"
   ]
  },
  {
   "cell_type": "raw",
   "id": "6f9e744c",
   "metadata": {},
   "source": []
  },
  {
   "cell_type": "code",
   "execution_count": 10,
   "id": "e42d2ed4",
   "metadata": {},
   "outputs": [
    {
     "name": "stdout",
     "output_type": "stream",
     "text": [
      "enter the number of rows:6\n",
      "1 \n",
      "2 3 \n",
      "4 5 6 \n",
      "7 8 9 10 \n",
      "11 12 13 14 15 \n",
      "16 17 18 19 20 21 \n"
     ]
    }
   ],
   "source": [
    "rows=int(input(\"enter the number of rows:\"))\n",
    "num=1\n",
    "for i in range(1,rows+1):\n",
    "    for j in range(1,i+1):\n",
    "        print(num,end = \" \")\n",
    "        num+=1\n",
    "    print()"
   ]
  },
  {
   "cell_type": "code",
   "execution_count": 25,
   "id": "329f02fc",
   "metadata": {
    "scrolled": true
   },
   "outputs": [
    {
     "name": "stdout",
     "output_type": "stream",
     "text": [
      "1\n",
      "2\n",
      "3\n",
      "4\n",
      "5\n",
      "6\n"
     ]
    }
   ],
   "source": [
    "for i in range(1,7):\n",
    "    if i == 10:\n",
    "        break\n",
    "    print(i)"
   ]
  },
  {
   "cell_type": "code",
   "execution_count": 45,
   "id": "26f7767a",
   "metadata": {},
   "outputs": [
    {
     "name": "stdout",
     "output_type": "stream",
     "text": [
      "m\n",
      "A\n",
      "h\n"
     ]
    }
   ],
   "source": [
    "for val in (\"mAha\"):\n",
    "    if val == \"a\":\n",
    "        break\n",
    "    print(val)"
   ]
  },
  {
   "cell_type": "markdown",
   "id": "0e3cf4a5",
   "metadata": {},
   "source": [
    "# while loop"
   ]
  },
  {
   "cell_type": "code",
   "execution_count": null,
   "id": "47f9b24e",
   "metadata": {},
   "outputs": [],
   "source": [
    "while <expression>:\n",
    "     <statement(s)>"
   ]
  },
  {
   "cell_type": "code",
   "execution_count": 29,
   "id": "d3b42879",
   "metadata": {
    "scrolled": true
   },
   "outputs": [
    {
     "name": "stdout",
     "output_type": "stream",
     "text": [
      "enter the limit:8\n",
      "0\n",
      "1\n",
      "2\n",
      "3\n",
      "4\n",
      "5\n",
      "6\n",
      "7\n"
     ]
    }
   ],
   "source": [
    "n=int(input('enter the limit:'))\n",
    "i=0\n",
    "while i<n:\n",
    "    print(i)\n",
    "    i += 1"
   ]
  },
  {
   "cell_type": "markdown",
   "id": "b2882fc8",
   "metadata": {},
   "source": [
    "# functions"
   ]
  },
  {
   "cell_type": "markdown",
   "id": "8056e30a",
   "metadata": {},
   "source": [
    "# understanding functions syntax"
   ]
  },
  {
   "cell_type": "code",
   "execution_count": null,
   "id": "5fd1c926",
   "metadata": {},
   "outputs": [],
   "source": [
    "def <function_name>(parameters):\n",
    "    Doc string\n",
    "    <statement(s)"
   ]
  },
  {
   "cell_type": "code",
   "execution_count": 46,
   "id": "32872212",
   "metadata": {},
   "outputs": [],
   "source": [
    "def add(m,n,p):\n",
    "    total = m+n+p\n",
    "    return total"
   ]
  },
  {
   "cell_type": "code",
   "execution_count": 12,
   "id": "d53a2f15-b9d2-461d-9971-4bac89568bb2",
   "metadata": {},
   "outputs": [
    {
     "name": "stdout",
     "output_type": "stream",
     "text": [
      "maha\n",
      "aarthi\n"
     ]
    }
   ],
   "source": [
    "names=[\"maha\",\"aarthi\",\"maha\"]\n",
    "original_names=set()\n",
    "for name in names:\n",
    "    if name not in original_names:\n",
    "        print(name)\n",
    "        original_names.add(name)"
   ]
  },
  {
   "cell_type": "code",
   "execution_count": 17,
   "id": "1286887a-70f0-46db-9df7-8fd3d0dba79a",
   "metadata": {},
   "outputs": [
    {
     "name": "stdout",
     "output_type": "stream",
     "text": [
      "['maha', 'aarthi']\n"
     ]
    }
   ],
   "source": [
    "def remove_duplicates(list):\n",
    "    result=[]\n",
    "    for i in list:\n",
    "        if i not in result:\n",
    "            result.append(i)\n",
    "    return result\n",
    "my_list=[\"maha\",\"aarthi\",\"maha\"]\n",
    "print(remove_duplicates(my_list))"
   ]
  },
  {
   "cell_type": "code",
   "execution_count": null,
   "id": "270ccd8e-b3bf-40d8-af69-341fec88b2f6",
   "metadata": {},
   "outputs": [],
   "source": []
  }
 ],
 "metadata": {
  "kernelspec": {
   "display_name": "Python 3 (ipykernel)",
   "language": "python",
   "name": "python3"
  },
  "language_info": {
   "codemirror_mode": {
    "name": "ipython",
    "version": 3
   },
   "file_extension": ".py",
   "mimetype": "text/x-python",
   "name": "python",
   "nbconvert_exporter": "python",
   "pygments_lexer": "ipython3",
   "version": "3.9.19"
  }
 },
 "nbformat": 4,
 "nbformat_minor": 5
}
